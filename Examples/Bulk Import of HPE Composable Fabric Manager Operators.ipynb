{
 "cells": [
  {
   "cell_type": "markdown",
   "metadata": {},
   "source": [
    "# Getting Started\n",
    "\n",
    "This notebook assumes that you have a Composable Fabric Manager instance up and running and have the default username and password. Please feel free to fork and modify this notebook for your own purposes. \n",
    "\n",
    "Note: This is not intended to be a full tutorial on the usage of the CFM Python binding or the HPE CFM API itself.\n",
    "\n",
    "## Use Case\n",
    "\n",
    "You have a list of local operators which you wish to create. This simple script will take the input of a simple python list object and add a single user for each line. Assumption is that the list is properly formated ( see below ). In a production environment, you may consider capturing this information in a properly formated CSV file. It is advisible to harden this script through input validation and other techniques. This is explicitly outside the scope of this example\n",
    "\n",
    "## Assumptions\n",
    "\n",
    "Assumption is that you've got the pyhpecfm library loaded and accessible in your python path as well as IP access to your HPE CFM instance."
   ]
  },
  {
   "cell_type": "code",
   "execution_count": 8,
   "metadata": {},
   "outputs": [],
   "source": [
    "import csv, json\n",
    "from pyhpecfm import client\n",
    "from pyhpecfm import system"
   ]
  },
  {
   "cell_type": "code",
   "execution_count": 2,
   "metadata": {},
   "outputs": [],
   "source": [
    "#create new instance of CFMClient object and connect to CFM. You'll need your IP/DNS Name, Username and Password for this.\n",
    "cfm = client.CFMClient('cfmtest.local', 'admin','plexxi')\n",
    "cfm.connect()"
   ]
  },
  {
   "cell_type": "markdown",
   "metadata": {},
   "source": [
    "The function we will be using to add users is the pyhpecfm.system.add_local_users() function. Let's take a look at that function to get an idea of what data we will need to feed it to create these users."
   ]
  },
  {
   "cell_type": "code",
   "execution_count": 3,
   "metadata": {},
   "outputs": [
    {
     "name": "stdout",
     "output_type": "stream",
     "text": [
      "Help on function add_local_user in module pyhpecfm.system:\n",
      "\n",
      "add_local_user(cfmclient, username, role, password, params=None)\n",
      "    Function to add a single new local user to a Composable Fabric Manager\n",
      "    represented by the CFMClient Object\n",
      "    :param cfmclient: Composable Fabric Manager connection object of type CFMClient\n",
      "    :param username: str Username of the new CFM user to be added\n",
      "    :param role: str role of the new username to be added. Valid inputs here\n",
      "    are 'Viewer', 'Operator', and 'Administrator'\n",
      "    :param password: str desired password of the new CFM User to be added\n",
      "    :return:\n",
      "\n"
     ]
    }
   ],
   "source": [
    "help(system.add_local_user)"
   ]
  },
  {
   "cell_type": "markdown",
   "metadata": {},
   "source": [
    "Now that we've got the CFM Client created and we know what data we're looking for, we will need to create a small list of list objects where each element of the root list represents a new user you wish to add to the CFM system."
   ]
  },
  {
   "cell_type": "code",
   "execution_count": 5,
   "metadata": {},
   "outputs": [],
   "source": [
    "new_users = [ \n",
    "                ['user1','Administrator', 'passord'],\n",
    "                ['user2','Administrator', 'passord'],\n",
    "                ['user3','Administrator', 'passord'],\n",
    "                ['user4','Administrator', 'passord'],\n",
    "                ['user5','Administrator', 'passord'],\n",
    "                ['user6','Administrator', 'passord'],\n",
    "            ]"
   ]
  },
  {
   "cell_type": "markdown",
   "metadata": {},
   "source": [
    "Now we can write a simple python list to be able to use the data in the sample list above to feed into the *system.add_local_user* function"
   ]
  },
  {
   "cell_type": "code",
   "execution_count": 6,
   "metadata": {},
   "outputs": [],
   "source": [
    "for i in new_users:\n",
    "    system.add_local_user(cfm, i[0], i[1], i[2])"
   ]
  },
  {
   "cell_type": "markdown",
   "metadata": {},
   "source": [
    "    We can run the *system.get_users* function to validate that our new users were successfully created. "
   ]
  },
  {
   "cell_type": "code",
   "execution_count": 11,
   "metadata": {},
   "outputs": [
    {
     "name": "stdout",
     "output_type": "stream",
     "text": [
      "[\n",
      "    {\n",
      "        \"username\": \"user6\",\n",
      "        \"token_lifetime\": 30,\n",
      "        \"uuid\": \"bca8048d-de06-4ff7-acfa-962b4ba491a6\",\n",
      "        \"auth_source_uuid\": \"1529c3e4-aa43-46ee-a3a2-a7922e785487\",\n",
      "        \"auth_source_name\": \"local\",\n",
      "        \"distinguished_name\": \"\",\n",
      "        \"role\": \"Administrator\",\n",
      "        \"immutable\": false,\n",
      "        \"preferences\": {}\n",
      "    },\n",
      "    {\n",
      "        \"username\": \"user5\",\n",
      "        \"token_lifetime\": 30,\n",
      "        \"uuid\": \"ac791da9-672f-40c2-8b05-34dbf48e77cb\",\n",
      "        \"auth_source_uuid\": \"1529c3e4-aa43-46ee-a3a2-a7922e785487\",\n",
      "        \"auth_source_name\": \"local\",\n",
      "        \"distinguished_name\": \"\",\n",
      "        \"role\": \"Administrator\",\n",
      "        \"immutable\": false,\n",
      "        \"preferences\": {}\n",
      "    },\n",
      "    {\n",
      "        \"username\": \"user4\",\n",
      "        \"token_lifetime\": 30,\n",
      "        \"uuid\": \"49ac396d-cc69-4629-bfa5-672e2082b063\",\n",
      "        \"auth_source_uuid\": \"1529c3e4-aa43-46ee-a3a2-a7922e785487\",\n",
      "        \"auth_source_name\": \"local\",\n",
      "        \"distinguished_name\": \"\",\n",
      "        \"role\": \"Administrator\",\n",
      "        \"immutable\": false,\n",
      "        \"preferences\": {}\n",
      "    },\n",
      "    {\n",
      "        \"username\": \"user3\",\n",
      "        \"token_lifetime\": 30,\n",
      "        \"uuid\": \"03d103bc-bcf4-4286-bdd5-8f081b6ecaea\",\n",
      "        \"auth_source_uuid\": \"1529c3e4-aa43-46ee-a3a2-a7922e785487\",\n",
      "        \"auth_source_name\": \"local\",\n",
      "        \"distinguished_name\": \"\",\n",
      "        \"role\": \"Administrator\",\n",
      "        \"immutable\": false,\n",
      "        \"preferences\": {}\n",
      "    },\n",
      "    {\n",
      "        \"username\": \"user2\",\n",
      "        \"token_lifetime\": 30,\n",
      "        \"uuid\": \"6ddd0d86-cb87-4807-9af1-e2c420d89cca\",\n",
      "        \"auth_source_uuid\": \"1529c3e4-aa43-46ee-a3a2-a7922e785487\",\n",
      "        \"auth_source_name\": \"local\",\n",
      "        \"distinguished_name\": \"\",\n",
      "        \"role\": \"Administrator\",\n",
      "        \"immutable\": false,\n",
      "        \"preferences\": {}\n",
      "    },\n",
      "    {\n",
      "        \"username\": \"user1\",\n",
      "        \"token_lifetime\": 30,\n",
      "        \"uuid\": \"7dd6e451-74df-4024-a5b1-c9aed273f7fe\",\n",
      "        \"auth_source_uuid\": \"1529c3e4-aa43-46ee-a3a2-a7922e785487\",\n",
      "        \"auth_source_name\": \"local\",\n",
      "        \"distinguished_name\": \"\",\n",
      "        \"role\": \"Administrator\",\n",
      "        \"immutable\": false,\n",
      "        \"preferences\": {}\n",
      "    },\n",
      "    {\n",
      "        \"username\": \"cyoung\",\n",
      "        \"token_lifetime\": 30,\n",
      "        \"uuid\": \"0910742c-5309-44a4-a7c1-dc45404c14e7\",\n",
      "        \"auth_source_uuid\": \"1529c3e4-aa43-46ee-a3a2-a7922e785487\",\n",
      "        \"auth_source_name\": \"local\",\n",
      "        \"distinguished_name\": \"\",\n",
      "        \"role\": \"Administrator\",\n",
      "        \"immutable\": false,\n",
      "        \"preferences\": {}\n",
      "    },\n",
      "    {\n",
      "        \"username\": \"admin\",\n",
      "        \"token_lifetime\": 30,\n",
      "        \"uuid\": \"98ddfcc5-7ecb-4eef-8e3a-09db20003218\",\n",
      "        \"auth_source_uuid\": \"1529c3e4-aa43-46ee-a3a2-a7922e785487\",\n",
      "        \"auth_source_name\": \"local\",\n",
      "        \"distinguished_name\": \"\",\n",
      "        \"role\": \"Administrator\",\n",
      "        \"immutable\": false,\n",
      "        \"preferences\": {}\n",
      "    },\n",
      "    {\n",
      "        \"username\": \"Composable Fabric Manager (read-only)\",\n",
      "        \"token_lifetime\": 1440,\n",
      "        \"uuid\": \"32612ad9-ef2e-41a1-9908-becf8b302d61\",\n",
      "        \"auth_source_uuid\": \"066ddc77-fddb-4f0d-ac63-8f8ab32a0d34\",\n",
      "        \"auth_source_name\": \"Composable Fabric Manager (read-only) - PKI\",\n",
      "        \"distinguished_name\": \"CN=Composable Fabric Manager (read-only),OU=Composable Fabric Manager Integration Clients,O=Hewlett Packard Enterprise,C=US,ST=California,L=Palo Alto\",\n",
      "        \"role\": \"Viewer\",\n",
      "        \"immutable\": true,\n",
      "        \"preferences\": {}\n",
      "    },\n",
      "    {\n",
      "        \"username\": \"Composable Fabric Manager\",\n",
      "        \"token_lifetime\": 1440,\n",
      "        \"uuid\": \"3f9023a4-e0c7-4c98-bdcc-695b22d24850\",\n",
      "        \"auth_source_uuid\": \"77ba8efe-3f8a-4b77-8fa1-25040488f835\",\n",
      "        \"auth_source_name\": \"Composable Fabric Manager - PKI\",\n",
      "        \"distinguished_name\": \"CN=Composable Fabric Manager,OU=Composable Fabric Manager Integration Clients,O=Hewlett Packard Enterprise,C=US,ST=California,L=Palo Alto\",\n",
      "        \"role\": \"Operator\",\n",
      "        \"immutable\": true,\n",
      "        \"preferences\": {}\n",
      "    },\n",
      "    {\n",
      "        \"username\": \"Event Manager\",\n",
      "        \"token_lifetime\": 1440,\n",
      "        \"uuid\": \"b5b396f2-c227-4c43-bf89-c8a5f2bd02df\",\n",
      "        \"auth_source_uuid\": \"dee7533f-46c4-4554-9248-0630219958e8\",\n",
      "        \"auth_source_name\": \"Event Manager - PKI\",\n",
      "        \"distinguished_name\": \"CN=Event Manager,OU=Composable Fabric Manager Integration Clients,O=Hewlett Packard Enterprise,C=US,ST=California,L=Palo Alto\",\n",
      "        \"role\": \"Operator\",\n",
      "        \"immutable\": true,\n",
      "        \"preferences\": {}\n",
      "    }\n",
      "]\n"
     ]
    }
   ],
   "source": [
    "print (json.dumps(system.get_users(cfm), indent=4))"
   ]
  },
  {
   "cell_type": "markdown",
   "metadata": {},
   "source": [
    "As you can see, each of the users has been successfully created. "
   ]
  },
  {
   "cell_type": "markdown",
   "metadata": {},
   "source": [
    "# Clean Up\n",
    "\n",
    "This section can be run to remove users added above."
   ]
  },
  {
   "cell_type": "code",
   "execution_count": 16,
   "metadata": {},
   "outputs": [],
   "source": [
    "#create a list of only the usernames\n",
    "delete_usernames = [i[0] for i in new_users]"
   ]
  },
  {
   "cell_type": "code",
   "execution_count": 17,
   "metadata": {},
   "outputs": [
    {
     "name": "stdout",
     "output_type": "stream",
     "text": [
      "v1/users/7dd6e451-74df-4024-a5b1-c9aed273f7fe\n",
      "v1/users/6ddd0d86-cb87-4807-9af1-e2c420d89cca\n",
      "v1/users/03d103bc-bcf4-4286-bdd5-8f081b6ecaea\n",
      "v1/users/49ac396d-cc69-4629-bfa5-672e2082b063\n",
      "v1/users/ac791da9-672f-40c2-8b05-34dbf48e77cb\n",
      "v1/users/bca8048d-de06-4ff7-acfa-962b4ba491a6\n"
     ]
    }
   ],
   "source": [
    "for i in delete_usernames:\n",
    "    system.delete_local_user(cfm, i)"
   ]
  },
  {
   "cell_type": "code",
   "execution_count": null,
   "metadata": {},
   "outputs": [],
   "source": []
  }
 ],
 "metadata": {
  "kernelspec": {
   "display_name": "Python 3",
   "language": "python",
   "name": "python3"
  },
  "language_info": {
   "codemirror_mode": {
    "name": "ipython",
    "version": 3
   },
   "file_extension": ".py",
   "mimetype": "text/x-python",
   "name": "python",
   "nbconvert_exporter": "python",
   "pygments_lexer": "ipython3",
   "version": "3.7.3"
  }
 },
 "nbformat": 4,
 "nbformat_minor": 4
}
